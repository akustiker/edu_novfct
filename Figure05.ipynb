{
 "cells": [
  {
   "cell_type": "markdown",
   "metadata": {},
   "source": [
    "<div>\n",
    "<a href=\"https://github.com/groupmm/edu_novfct\"><img src=\"data/Edu_NovFct_Teaser.png\" width=100% style=\"float: right;\" alt=\"ENF Teaser\"></a>\n",
    "</div>"
   ]
  },
  {
   "cell_type": "markdown",
   "metadata": {},
   "source": [
    "<div>\n",
    "<h2>Figure 5<br> <small>Illustration of precision, recall, and F-measure with error tolerance. </small></h2> </div>"
   ]
  },
  {
   "cell_type": "markdown",
   "metadata": {},
   "source": [
    "This notebook provides code for reproducing the subfigures of Figure 5 of the paper.\n",
    "- Figure 5a: Novelty function with estimated positions and reference positions.\n",
    "- Figure 5b: Illustration of reference positions (Ref), true positives (TP), false positives (FP), and false negatives (FN) with error tolerance."
   ]
  },
  {
   "cell_type": "markdown",
   "metadata": {},
   "source": [
    "### Figure 5a\n",
    "Novelty function with estimated positions (blue dotted lines) and reference positions (red dashed lines).\n",
    "\n",
    "In the following code cell, we do the following:\n",
    "* Import all necessary libraries and functions used in the notebook.\n",
    "* Set the configurations for the figures.\n",
    "* Load a novelty function and apply peak picking to dervie some beat estimations.\n",
    "* Load the beat annotations, and visualize the estimations and annotations."
   ]
  },
  {
   "cell_type": "code",
   "execution_count": 1,
   "metadata": {
    "tags": []
   },
   "outputs": [
    {
     "data": {
      "image/png": "[encoded data removed]",
      "text/plain": [
       "<Figure size 652x150 with 1 Axes>"
      ]
     },
     "metadata": {},
     "output_type": "display_data"
    }
   ],
   "source": [
    "import numpy as np\n",
    "import os \n",
    "from scipy import signal\n",
    "from matplotlib import pyplot as plt\n",
    "import mir_eval.util as util\n",
    "\n",
    "import libfmp.b\n",
    "import libfmp.c6\n",
    "\n",
    "%matplotlib inline\n",
    "\n",
    "### Settings of the figures\n",
    "export = False\n",
    "figsize_nov = (6.52,1.5)\n",
    "figsize_ann = (8, 0.5)\n",
    "figsize_eval = (6.4, 1.6)\n",
    "dpi = 100\n",
    "plot_ylim = [0,1.1]\n",
    "tol = 0.025 # tolerance in second\n",
    "\n",
    "### Figure05a\n",
    "### Evluate the peak picking estimation using F-measure\n",
    "# Read a novelty function\n",
    "data = np.load('./data/example_data.npy', allow_pickle = True).item()\n",
    "nov = data['nov']\n",
    "dur = data['dur']\n",
    "Fs_nov = data['Fs']\n",
    "\n",
    "# Use local average as local threhold of the peak picker\n",
    "peaks = signal.find_peaks(nov, height=0.15)[0]\n",
    "\n",
    "# Read beat annotations\n",
    "fn_ann = os.path.join('./data/example_ann.csv')\n",
    "ann, label_keys = libfmp.c6.read_annotation_pos(fn_ann, label='beat', header=0)\n",
    "\n",
    "# Plot the novelty function, picked peaks, and annotated beats\n",
    "libfmp.b.plot_signal(nov, Fs_nov, color='k', dpi=dpi, figsize=figsize_nov, xlabel='')\n",
    "plt.plot(peaks/Fs_nov, nov[peaks], linestyle = '', marker='o', markersize=4, color='b')\n",
    "beat_times = [i[0] for i in ann]\n",
    "plt.vlines(beat_times, plot_ylim[0], plot_ylim[1], color = 'red', linestyle = 'dashed')\n",
    "plt.vlines(peaks/Fs_nov, plot_ylim[0], plot_ylim[1], color = 'blue', linestyle = 'dotted')\n",
    "plt.xticks(np.arange(0, len(nov)/Fs_nov, 0.5), np.arange(0, len(nov)/Fs_nov, 0.5) )\n",
    "plt.tight_layout()\n",
    "output_path= os.path.join('./export/Figure05a.png')\n",
    "if export == True:\n",
    "    plt.savefig(output_path)"
   ]
  },
  {
   "cell_type": "markdown",
   "metadata": {},
   "source": [
    "### Figure 5b\n",
    "In the following code cell, we do the following:\n",
    "* Convert the frames indices of estimated beats into seconds.\n",
    "* Derive the true positives, false positives, and false negatives using mir_eval library\n",
    "* Visualize the above cases with the error tolerance. "
   ]
  },
  {
   "cell_type": "code",
   "execution_count": 2,
   "metadata": {
    "tags": []
   },
   "outputs": [
    {
     "data": {
      "image/png": "[encoded data removed]",
      "text/plain": [
       "<Figure size 640x160 with 1 Axes>"
      ]
     },
     "metadata": {},
     "output_type": "display_data"
    }
   ],
   "source": [
    "### Figure05b\n",
    "### Visualize the tolerance, TP, FP, FN\n",
    "def match2correct(matching):\n",
    "    ### extract indices of correct estimations\n",
    "    est_cid = []\n",
    "    for ann_id, est_id in matching:\n",
    "        est_cid.append(est_id)\n",
    "    return est_cid\n",
    "\n",
    "def match2TP(est, matching):\n",
    "    est_cid = match2correct(matching)\n",
    "    est_id_arr = np.zeros(est.shape)\n",
    "    est_id_arr[est_cid]=1\n",
    "    \n",
    "    tp_times = est[np.where(est_id_arr==1)[0]]\n",
    "    return tp_times\n",
    "\n",
    "def match2FP(est, matching):\n",
    "    est_cid = match2correct(matching)\n",
    "    est_id_arr = np.ones(est.shape)\n",
    "    est_id_arr[est_cid]=0\n",
    "    \n",
    "    fp_times = est[np.where(est_id_arr==1)[0]]\n",
    "    return fp_times\n",
    "\n",
    "def match2FN(ref, matching):\n",
    "    ### extract indices of detected reference beats\n",
    "    ref_cid = [i[0] for i in matching]\n",
    "    ref_id_arr = np.ones(len(ref))\n",
    "    ref_id_arr[ref_cid] = 0 ## exclude all the detected ones and keep the missed ones\n",
    "    \n",
    "    fn_times = ref[np.where(ref_id_arr==1)[0]]\n",
    "    return fn_times\n",
    "\n",
    "### Convert the frames indices of estimated beats into seconds.\n",
    "reference_beats = beat_times\n",
    "estimated_beats = peaks/Fs_nov\n",
    "### Derive the true positives, false positives, and false negatives using mir_eval library\n",
    "matching = util.match_events(reference_beats, estimated_beats, tol)\n",
    "fps = match2FP(estimated_beats, matching)\n",
    "tps = match2TP(estimated_beats, matching)\n",
    "fns = match2FN(np.array(reference_beats), matching)\n",
    "\n",
    "### Settings for visualization\n",
    "vline_list = [[tp, 'TP'] for tp in tps] + \\\n",
    "             [[fn, 'FN'] for fn in fns] + \\\n",
    "             [[fp, 'FP'] for fp in fps] + \\\n",
    "             [[beat, 'Ref'] for beat in beat_times]\n",
    "label_keys = {'Ref': {'linewidth': 2, 'color': 'r'},\n",
    "              'TP': {'linewidth': 2, 'color': 'blue'},\n",
    "              'FN': {'linewidth': 2, 'color': 'red'}, \n",
    "             'FP': {'linewidth': 2, 'color': 'blue'}}\n",
    "sort_labels = [ 'Ref','TP', 'FP',  'FN']\n",
    "sort_labels.reverse()\n",
    "fig, ax = libfmp.b.plot_annotation_multiline(vline_list, label_keys=label_keys, \n",
    "                                   sort_labels=sort_labels,  dpi=dpi, figsize=figsize_eval)\n",
    "\n",
    "for k in range(len(beat_times)):\n",
    "    ax.fill_between([beat_times[k] -tol, beat_times[k] +tol], \n",
    "                     -1, 4.05, facecolor='red', alpha=0.3)\n",
    "ax.set_xticks(np.arange(0, dur, 0.5), np.arange(0, dur, 0.5))\n",
    "\n",
    "\n",
    "\n",
    "output_path = os.path.join('./export/Figure05b.png')\n",
    "if export == True:\n",
    "    plt.savefig(output_path)"
   ]
  },
  {
   "cell_type": "markdown",
   "metadata": {},
   "source": [
    "### Further Notes and Links\n",
    "<ul>\n",
    "<li><span style=\"color:black\">\n",
    "Meinard Müller and Ching-Yu Chiu: <a href=\"https://ieeexplore.ieee.org/document/6353546\"><strong>A Basic Tutorial on Novelty and Activation Functions for Music Signal Processing.</strong></a> Transaction of the International Society for Music Information Retrieval (TISMIR), ??: ??–??, 2024. \n",
    "<br>\n",
    "<a type=\"button\" class=\"btn btn-default btn-xs\" target=\"_blank\" href=\"./data/bibtex_MuellerC24_EduNovFct_TISMIR.txt\"> Bibtex </a>\n",
    "<a type=\"button\" class=\"btn btn-default btn-xs\" target=\"_blank\" href=\"https://github.com/groupmm/edu_novfct\">GitHub</a></span></li>\n",
    "</ul> \n"
   ]
  },
  {
   "cell_type": "markdown",
   "metadata": {},
   "source": [
    "<div>\n",
    "<a href=\"https://opensource.org/licenses/MIT\"><img src=\"data/Edu_NovFct_License.png\" width=100% style=\"float: right;\" alt=\"ENF License\"></a>\n",
    "</div>"
   ]
  },
  {
   "cell_type": "code",
   "execution_count": null,
   "metadata": {},
   "outputs": [],
   "source": []
  }
 ],
 "metadata": {
  "kernelspec": {
   "display_name": "Python 3 (ipykernel)",
   "language": "python",
   "name": "python3"
  },
  "language_info": {
   "codemirror_mode": {
    "name": "ipython",
    "version": 3
   },
   "file_extension": ".py",
   "mimetype": "text/x-python",
   "name": "python",
   "nbconvert_exporter": "python",
   "pygments_lexer": "ipython3",
   "version": "3.11.4"
  }
 },
 "nbformat": 4,
 "nbformat_minor": 4
}
