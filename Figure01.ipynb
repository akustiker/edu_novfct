{
 "cells": [
  {
   "cell_type": "markdown",
   "metadata": {
    "tags": []
   },
   "source": [
    "<div>\n",
    "<a href=\"https://github.com/groupmm/edu_novfct\"><img src=\"data/Edu_NovFct_Teaser.png\" width=100% style=\"float: right;\" alt=\"ENF Teaser\"></a>\n",
    "</div>"
   ]
  },
  {
   "cell_type": "markdown",
   "metadata": {},
   "source": [
    "<div>\n",
    "<h2>Figure 1<br> <small>Idealized novelty functions for various MIR tasks. </small></h2> </div>"
   ]
  },
  {
   "cell_type": "markdown",
   "metadata": {},
   "source": [
    "This notebook provides code for reproducing the subfigures of Figure 1 of the paper.\n",
    "- Figure 1a: Musical score of the beginning of the second piano etude from Op. 100 by Burgmüller.\n",
    "- Figure 1b: Audio recording of the corresponding excerpt.\n",
    "- Figure 1c: Onset detection.\n",
    "- Figure 1d: Beat tracking.\n",
    "- Figure 1e: Downbeat (measure) tracking.\n",
    "- Figure 1f: Boundary estimation for music structure analysis."
   ]
  },
  {
   "cell_type": "markdown",
   "metadata": {
    "tags": []
   },
   "source": [
    "### Figure 1a\n",
    "\n",
    "Musical score of the beginning of the second piano etude from Op. 100 by Burgmüller.\n",
    "\n",
    "<img src=\"./data/example_Burgmueller_score.png\" width=\"700px\" align=\"left\" alt=\"example_Burgmueller_score.png\">"
   ]
  },
  {
   "cell_type": "markdown",
   "metadata": {},
   "source": [
    "### Figure 1b\n",
    "\n",
    "Audio recording of the corresponding excerpt.\n",
    "\n",
    "<audio src=\"./data/example_Burgmueller_audio.mp3\" type=\"audio/mpeg\" controls=\"controls\"></audio>\n",
    "\n",
    "In the following code cell, we do the following:\n",
    "* Import all necessary libraries and functions used in the notebook.\n",
    "* Set the configurations for the figures.\n",
    "* Plot the waveform of the audio excerpt (Figure 1b)."
   ]
  },
  {
   "cell_type": "code",
   "execution_count": 1,
   "metadata": {},
   "outputs": [
    {
     "data": {
      "image/png": "[encoded data removed]",
      "text/plain": [
       "<Figure size 810x120 with 1 Axes>"
      ]
     },
     "metadata": {},
     "output_type": "display_data"
    }
   ],
   "source": [
    "import os\n",
    "import numpy as np\n",
    "import librosa\n",
    "from matplotlib import pyplot as plt\n",
    "from scipy.ndimage import gaussian_filter1d\n",
    "import pandas as pd\n",
    "import libfmp.b\n",
    "\n",
    "%matplotlib inline\n",
    "\n",
    "### load audio wav \n",
    "fn_wav = os.path.join('./data/example_Burgmueller_audio.wav')\n",
    "x, Fs = librosa.load(fn_wav)\n",
    "x_duration = len(x)/Fs\n",
    "\n",
    "### Settings for figures\n",
    "export = False\n",
    "figsize=(8.0,1.2)\n",
    "figsize_wav=(8.1,1.2)\n",
    "dpi = 100\n",
    "plot_xlim = [0, x_duration]\n",
    "plot_ylim_wav = [-1.05, 1.05]\n",
    "plot_ylim = [0, 1.1]\n",
    "\n",
    "### Figure01b\n",
    "libfmp.b.plot_signal(x, Fs, color='k', dpi=dpi, figsize=figsize_wav, xlabel='')\n",
    "plt.xlim(plot_xlim)\n",
    "plt.ylim(plot_ylim_wav)\n",
    "plt.xticks(np.arange(0, x_duration, 2), np.arange(0, x_duration, 2, dtype = int))\n",
    "plt.tight_layout()\n",
    "\n",
    "output_path = os.path.join('./export/Figure01b.png')\n",
    "if export==True:\n",
    "    plt.savefig(output_path)"
   ]
  },
  {
   "cell_type": "markdown",
   "metadata": {},
   "source": [
    "### Figure 1c \n",
    "\n",
    "Onset detection.\n",
    "\n",
    "In the following code cell, we define functions for reading annotations (e.g., time positions of onsets), converting the annotations into ideal binary novelty functions, apply a Gaussian smoothing kernel, and plot the resulting novelty function (Figure 1c). "
   ]
  },
  {
   "cell_type": "code",
   "execution_count": 2,
   "metadata": {
    "tags": []
   },
   "outputs": [
    {
     "data": {
      "image/png": "[encoded data removed]",
      "text/plain": [
       "<Figure size 800x120 with 1 Axes>"
      ]
     },
     "metadata": {},
     "output_type": "display_data"
    }
   ],
   "source": [
    "### Figure01c\n",
    "def read_anncsv(csvpath):\n",
    "    \"\"\" Read the provided .csv and organize the four types of annotations\n",
    "    \n",
    "    Args:\n",
    "        csvpath (str): Filepath of annotations.\n",
    "    Returns:\n",
    "        ann_dict (dict): Dictionary of annotations for onset, beat, downbeat, and structure. \n",
    "    \"\"\"\n",
    "    ann_info = np.array(pd.read_csv(csvpath, header = None))\n",
    "    ann_dict = {'onset':[], 'beat':[], 'downbeat':[], 'structure':[]}\n",
    "    for ann_str in ann_info[1:]:\n",
    "        time, ann_type = ann_str[0].split(';')\n",
    "        ann_dict[ann_type.strip('\"')].append(float(time))\n",
    "    return ann_dict\n",
    "\n",
    "def generate_nov_from_events(events, dur_sec = None, Fs_nov =100, sigma= None, max_norm = False):\n",
    "    \"\"\" Generate a frame-based idealized novelty function from the time sequence of events.\n",
    "    \n",
    "    Args:\n",
    "        events (np.ndarray): Numpy array of time points (in second) of events (e.g., onsets).\n",
    "        dur_sec (float): Duration (in seconds) of the generated novelty function. If None, it will be set as the last element of events.\n",
    "        Fs_nov (float): Frame rate (in frame-per-second) of the generated novelty function.\n",
    "        sigma (float): Sigma of 1D Gaussian filter. If None, no filter will be applied.\n",
    "        max_norm (bool): Apply max normalization before returning the generated novely function.\n",
    "    Returns:\n",
    "        nov (np.ndarray): Numpy array of the generated novelty function.\n",
    "    \"\"\"\n",
    "\n",
    "    if dur_sec:\n",
    "        end_frame = round(dur_sec*Fs_nov)+1\n",
    "    else:\n",
    "        end_frame = round(events[-1]*Fs_nov)+1 \n",
    "    nov = np.zeros((end_frame, ))\n",
    "    for ind, event in enumerate(list(events)):\n",
    "        nov[round(event*Fs_nov)] = 1\n",
    "        \n",
    "    if sigma:\n",
    "        nov = gaussian_filter1d(nov, sigma = sigma, mode = 'constant')\n",
    "    if max_norm==True and nov.max()!=0:\n",
    "        nov = nov/nov.max()\n",
    "        \n",
    "    return nov\n",
    "\n",
    "Fs_nov = 100 ## frame-rate of the ideal novelty function\n",
    "csvpath = './data/example_Burgmueller_ann.csv'\n",
    "ann_dict = read_anncsv(csvpath )\n",
    "### Frame-based idealized novelty function for onsets\n",
    "ideal_onset = generate_nov_from_events(ann_dict['onset'], dur_sec = x_duration, Fs_nov = Fs_nov, sigma = 1, max_norm = True)\n",
    "\n",
    "libfmp.b.plot_signal(ideal_onset, Fs_nov, color='k', dpi=dpi, figsize=figsize, xlabel='')\n",
    "plt.xlim(plot_xlim)\n",
    "plt.ylim(plot_ylim)\n",
    "plt.xticks(np.arange(0, x_duration, 2), np.arange(0, x_duration, 2, dtype = int))\n",
    "plt.tight_layout()\n",
    "output_path = os.path.join('./export/Figure01c.png')\n",
    "if export == True:\n",
    "    plt.savefig(output_path)"
   ]
  },
  {
   "cell_type": "markdown",
   "metadata": {},
   "source": [
    "### Figure 1d\n",
    "\n",
    "Beat tracking.\n",
    "\n",
    "In the following code cell, we generate and plot an idealized novelty function for beat tracking (Figure 1d)."
   ]
  },
  {
   "cell_type": "code",
   "execution_count": 3,
   "metadata": {
    "tags": []
   },
   "outputs": [
    {
     "data": {
      "image/png": "[encoded data removed]",
      "text/plain": [
       "<Figure size 800x120 with 1 Axes>"
      ]
     },
     "metadata": {},
     "output_type": "display_data"
    }
   ],
   "source": [
    "### Figure01d\n",
    "#### Frame-based idealized novelty function for beats\n",
    "ideal_beat = generate_nov_from_events(ann_dict['beat'], dur_sec = x_duration, Fs_nov = Fs_nov, sigma = 1, max_norm = True)\n",
    "\n",
    "libfmp.b.plot_signal(ideal_beat, Fs_nov, color='k', dpi=dpi, figsize=figsize, xlabel='')\n",
    "plt.xlim(plot_xlim)\n",
    "plt.ylim(plot_ylim)\n",
    "plt.xticks(np.arange(0, x_duration, 2), np.arange(0, x_duration, 2, dtype = int))\n",
    "plt.tight_layout()\n",
    "output_path = os.path.join('./export/Figure01d.png')\n",
    "if export == True:\n",
    "    plt.savefig(output_path)"
   ]
  },
  {
   "cell_type": "markdown",
   "metadata": {},
   "source": [
    "### Figure 1e\n",
    "\n",
    "Downbeat (measure) tracking.\n",
    "\n",
    "In the following code cell, we generate and plot an idealized novelty function for downbeat tracking (Figure 1e)."
   ]
  },
  {
   "cell_type": "code",
   "execution_count": 4,
   "metadata": {
    "tags": []
   },
   "outputs": [
    {
     "data": {
      "image/png": "[encoded data removed]",
      "text/plain": [
       "<Figure size 800x120 with 1 Axes>"
      ]
     },
     "metadata": {},
     "output_type": "display_data"
    }
   ],
   "source": [
    "### Figure01e\n",
    "#### Frame-based idealized novelty function for downbeats\n",
    "ideal_dbeat = generate_nov_from_events(ann_dict['downbeat'], dur_sec = x_duration, Fs_nov = Fs_nov, sigma = 1, max_norm = True)\n",
    "\n",
    "libfmp.b.plot_signal(ideal_dbeat, Fs_nov, color='k', dpi=dpi, figsize=figsize, xlabel='')\n",
    "plt.xlim(plot_xlim)\n",
    "plt.ylim(plot_ylim)\n",
    "plt.xticks(np.arange(0, x_duration, 2), np.arange(0, x_duration, 2, dtype = int))\n",
    "plt.tight_layout()\n",
    "output_path = os.path.join('./export/Figure01e.png')\n",
    "if export == True:\n",
    "    plt.savefig(output_path)"
   ]
  },
  {
   "cell_type": "markdown",
   "metadata": {},
   "source": [
    "### Figure 1f\n",
    "\n",
    "Boundary estimation for music structure analysis.\n",
    "\n",
    "In the following code cell, we generate and plot an idealized novelty function for boundary estimation (Figure 1f)."
   ]
  },
  {
   "cell_type": "code",
   "execution_count": 5,
   "metadata": {
    "tags": []
   },
   "outputs": [
    {
     "data": {
      "image/png": "[encoded data removed]",
      "text/plain": [
       "<Figure size 800x120 with 1 Axes>"
      ]
     },
     "metadata": {},
     "output_type": "display_data"
    }
   ],
   "source": [
    "### Figure01f\n",
    "#### Frame-based idealized novelty function for structure\n",
    "ideal_struct = generate_nov_from_events(ann_dict['structure'], dur_sec = x_duration, Fs_nov = Fs_nov, sigma = 10, max_norm = True)\n",
    "\n",
    "libfmp.b.plot_signal(ideal_struct, Fs_nov, color='k', dpi=dpi, figsize=figsize, xlabel='')\n",
    "plt.xlim(plot_xlim)\n",
    "plt.ylim(plot_ylim)\n",
    "plt.xticks(np.arange(0, x_duration, 2), np.arange(0, x_duration, 2, dtype = int))\n",
    "plt.tight_layout()\n",
    "output_path = os.path.join('./export/Figure01f.png')\n",
    "if export == True:\n",
    "    plt.savefig(output_path)"
   ]
  },
  {
   "cell_type": "markdown",
   "metadata": {},
   "source": [
    "### Further Notes and Links\n",
    "\n",
    "\n",
    "<ul>\n",
    "<li><span style=\"color:black\">\n",
    "Meinard Müller and Ching-Yu Chiu: <a href=\"https://ieeexplore.ieee.org/document/6353546\"><strong>A Basic Tutorial on Novelty and Activation Functions for Music Signal Processing.</strong></a> Transaction of the International Society for Music Information Retrieval (TISMIR), ??: ??–??, 2024. \n",
    "<br>\n",
    "<a type=\"button\" class=\"btn btn-default btn-xs\" target=\"_blank\" href=\"./data/bibtex_MuellerC24_EduNovFct_TISMIR.txt\"> Bibtex </a>\n",
    "<a type=\"button\" class=\"btn btn-default btn-xs\" target=\"_blank\" href=\"https://github.com/groupmm/edu_novfct\">GitHub</a></span></li>\n",
    "\n",
    "</ul> "
   ]
  },
  {
   "cell_type": "markdown",
   "metadata": {},
   "source": [
    "<div>\n",
    "<a href=\"https://opensource.org/licenses/MIT\"><img src=\"data/Edu_NovFct_License.png\" width=100% style=\"float: right;\" alt=\"ENF License\"></a>\n",
    "</div>"
   ]
  },
  {
   "cell_type": "code",
   "execution_count": null,
   "metadata": {},
   "outputs": [],
   "source": []
  }
 ],
 "metadata": {
  "anaconda-cloud": {},
  "kernelspec": {
   "display_name": "Python 3 (ipykernel)",
   "language": "python",
   "name": "python3"
  },
  "language_info": {
   "codemirror_mode": {
    "name": "ipython",
    "version": 3
   },
   "file_extension": ".py",
   "mimetype": "text/x-python",
   "name": "python",
   "nbconvert_exporter": "python",
   "pygments_lexer": "ipython3",
   "version": "3.11.4"
  }
 },
 "nbformat": 4,
 "nbformat_minor": 4
}
